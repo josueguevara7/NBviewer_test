import plotly
import plotly.graph_objs as go
import string
import numpy as np
plotly.offline.init_notebook_mode() 

x = np.random.randn(26)
y = x + np.random.randn(26)
labels = ['Observation ' + c for c in list(string.ascii_uppercase)]

trace = go.Scatter(
    x=x,
    y=y,
    mode='markers',
    marker=dict(size='13'),
    text=labels,
    hoverinfo='text',
    name="Sample Data",
)

fig = dict(data=[trace], layout={})
fig['layout']['xaxis'] = dict(title='Variable X')
fig['layout']['yaxis'] = dict(title='Variable Y')
 
plotly.offline.iplot(fig, show_link=False)
